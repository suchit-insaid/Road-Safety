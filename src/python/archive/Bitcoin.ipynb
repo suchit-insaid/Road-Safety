{
 "cells": [
  {
   "cell_type": "code",
   "execution_count": 188,
   "metadata": {},
   "outputs": [],
   "source": [
    "import pandas as pd"
   ]
  },
  {
   "cell_type": "code",
   "execution_count": 189,
   "metadata": {},
   "outputs": [],
   "source": [
    "df1 = pd.read_csv('bitcoinn_prices_2013-Nov17.csv')"
   ]
  },
  {
   "cell_type": "code",
   "execution_count": 190,
   "metadata": {},
   "outputs": [
    {
     "data": {
      "text/plain": [
       "(1678, 7)"
      ]
     },
     "execution_count": 190,
     "metadata": {},
     "output_type": "execute_result"
    }
   ],
   "source": [
    "df1.shape"
   ]
  },
  {
   "cell_type": "code",
   "execution_count": 191,
   "metadata": {},
   "outputs": [],
   "source": [
    "df2 = pd.read_csv('Validation_2017_18.csv')"
   ]
  },
  {
   "cell_type": "code",
   "execution_count": 192,
   "metadata": {},
   "outputs": [
    {
     "data": {
      "text/plain": [
       "(90, 6)"
      ]
     },
     "execution_count": 192,
     "metadata": {},
     "output_type": "execute_result"
    }
   ],
   "source": [
    "df2.shape"
   ]
  },
  {
   "cell_type": "code",
   "execution_count": 193,
   "metadata": {},
   "outputs": [],
   "source": [
    "frames=[df1,df2]"
   ]
  },
  {
   "cell_type": "code",
   "execution_count": 194,
   "metadata": {},
   "outputs": [],
   "source": [
    "df=pd.concat(frames,sort=False)"
   ]
  },
  {
   "cell_type": "code",
   "execution_count": 195,
   "metadata": {},
   "outputs": [
    {
     "data": {
      "text/html": [
       "<div>\n",
       "<style scoped>\n",
       "    .dataframe tbody tr th:only-of-type {\n",
       "        vertical-align: middle;\n",
       "    }\n",
       "\n",
       "    .dataframe tbody tr th {\n",
       "        vertical-align: top;\n",
       "    }\n",
       "\n",
       "    .dataframe thead th {\n",
       "        text-align: right;\n",
       "    }\n",
       "</style>\n",
       "<table border=\"1\" class=\"dataframe\">\n",
       "  <thead>\n",
       "    <tr style=\"text-align: right;\">\n",
       "      <th></th>\n",
       "      <th>Date</th>\n",
       "      <th>Open</th>\n",
       "      <th>High</th>\n",
       "      <th>Low</th>\n",
       "      <th>Close</th>\n",
       "      <th>Volume</th>\n",
       "      <th>Market Cap</th>\n",
       "    </tr>\n",
       "  </thead>\n",
       "  <tbody>\n",
       "    <tr>\n",
       "      <th>0</th>\n",
       "      <td>11/30/2017</td>\n",
       "      <td>9906.79</td>\n",
       "      <td>10801.00</td>\n",
       "      <td>9202.05</td>\n",
       "      <td>10233.60</td>\n",
       "      <td>8310689792</td>\n",
       "      <td>1.660000e+11</td>\n",
       "    </tr>\n",
       "    <tr>\n",
       "      <th>1</th>\n",
       "      <td>11/29/2017</td>\n",
       "      <td>10077.40</td>\n",
       "      <td>11517.40</td>\n",
       "      <td>9601.03</td>\n",
       "      <td>9888.61</td>\n",
       "      <td>11568799744</td>\n",
       "      <td>1.680000e+11</td>\n",
       "    </tr>\n",
       "    <tr>\n",
       "      <th>2</th>\n",
       "      <td>11/28/2017</td>\n",
       "      <td>9823.43</td>\n",
       "      <td>10125.70</td>\n",
       "      <td>9736.30</td>\n",
       "      <td>10058.80</td>\n",
       "      <td>6348819968</td>\n",
       "      <td>1.640000e+11</td>\n",
       "    </tr>\n",
       "    <tr>\n",
       "      <th>3</th>\n",
       "      <td>11/27/2017</td>\n",
       "      <td>9352.72</td>\n",
       "      <td>9818.35</td>\n",
       "      <td>9352.72</td>\n",
       "      <td>9818.35</td>\n",
       "      <td>5653320192</td>\n",
       "      <td>1.560000e+11</td>\n",
       "    </tr>\n",
       "    <tr>\n",
       "      <th>4</th>\n",
       "      <td>11/26/2017</td>\n",
       "      <td>8789.04</td>\n",
       "      <td>9522.93</td>\n",
       "      <td>8775.59</td>\n",
       "      <td>9330.55</td>\n",
       "      <td>5475579904</td>\n",
       "      <td>1.470000e+11</td>\n",
       "    </tr>\n",
       "  </tbody>\n",
       "</table>\n",
       "</div>"
      ],
      "text/plain": [
       "         Date      Open      High      Low     Close       Volume  \\\n",
       "0  11/30/2017   9906.79  10801.00  9202.05  10233.60   8310689792   \n",
       "1  11/29/2017  10077.40  11517.40  9601.03   9888.61  11568799744   \n",
       "2  11/28/2017   9823.43  10125.70  9736.30  10058.80   6348819968   \n",
       "3  11/27/2017   9352.72   9818.35  9352.72   9818.35   5653320192   \n",
       "4  11/26/2017   8789.04   9522.93  8775.59   9330.55   5475579904   \n",
       "\n",
       "     Market Cap  \n",
       "0  1.660000e+11  \n",
       "1  1.680000e+11  \n",
       "2  1.640000e+11  \n",
       "3  1.560000e+11  \n",
       "4  1.470000e+11  "
      ]
     },
     "execution_count": 195,
     "metadata": {},
     "output_type": "execute_result"
    }
   ],
   "source": [
    "df. head()"
   ]
  },
  {
   "cell_type": "code",
   "execution_count": 196,
   "metadata": {},
   "outputs": [
    {
     "data": {
      "text/plain": [
       "(1768, 7)"
      ]
     },
     "execution_count": 196,
     "metadata": {},
     "output_type": "execute_result"
    }
   ],
   "source": [
    "df.shape"
   ]
  },
  {
   "cell_type": "code",
   "execution_count": 197,
   "metadata": {},
   "outputs": [
    {
     "data": {
      "text/plain": [
       "Date           0\n",
       "Open           0\n",
       "High           0\n",
       "Low            0\n",
       "Close         90\n",
       "Volume         0\n",
       "Market Cap     0\n",
       "dtype: int64"
      ]
     },
     "execution_count": 197,
     "metadata": {},
     "output_type": "execute_result"
    }
   ],
   "source": [
    "df.isnull().sum()"
   ]
  },
  {
   "cell_type": "markdown",
   "metadata": {},
   "source": [
    "# Apply logic to fill Volume I am hard coding"
   ]
  },
  {
   "cell_type": "code",
   "execution_count": 198,
   "metadata": {},
   "outputs": [],
   "source": [
    "\n",
    "market = []\n",
    "for item in df['Market Cap']:\n",
    "    market.append(int(item))\n",
    "df['Market'] = market"
   ]
  },
  {
   "cell_type": "code",
   "execution_count": 199,
   "metadata": {},
   "outputs": [
    {
     "data": {
      "text/plain": [
       "(1768, 8)"
      ]
     },
     "execution_count": 199,
     "metadata": {},
     "output_type": "execute_result"
    }
   ],
   "source": [
    "df.shape"
   ]
  },
  {
   "cell_type": "code",
   "execution_count": 200,
   "metadata": {},
   "outputs": [
    {
     "data": {
      "text/plain": [
       "243"
      ]
     },
     "execution_count": 200,
     "metadata": {},
     "output_type": "execute_result"
    }
   ],
   "source": [
    "df[df.Volume=='-'].Volume.count()"
   ]
  },
  {
   "cell_type": "code",
   "execution_count": 201,
   "metadata": {},
   "outputs": [],
   "source": [
    "df.Volume.replace('-',50808100,inplace=True)"
   ]
  },
  {
   "cell_type": "code",
   "execution_count": 202,
   "metadata": {},
   "outputs": [
    {
     "name": "stdout",
     "output_type": "stream",
     "text": [
      "<class 'pandas.core.frame.DataFrame'>\n",
      "Int64Index: 1768 entries, 0 to 89\n",
      "Data columns (total 8 columns):\n",
      "Date          1768 non-null object\n",
      "Open          1768 non-null float64\n",
      "High          1768 non-null float64\n",
      "Low           1768 non-null float64\n",
      "Close         1678 non-null float64\n",
      "Volume        1768 non-null object\n",
      "Market Cap    1768 non-null float64\n",
      "Market        1768 non-null int64\n",
      "dtypes: float64(5), int64(1), object(2)\n",
      "memory usage: 124.3+ KB\n"
     ]
    }
   ],
   "source": [
    "df.info()"
   ]
  },
  {
   "cell_type": "code",
   "execution_count": 203,
   "metadata": {},
   "outputs": [],
   "source": [
    "df['vol']=pd.to_numeric(df['Volume'],errors='coerce')"
   ]
  },
  {
   "cell_type": "code",
   "execution_count": 204,
   "metadata": {},
   "outputs": [
    {
     "name": "stdout",
     "output_type": "stream",
     "text": [
      "<class 'pandas.core.frame.DataFrame'>\n",
      "Int64Index: 1768 entries, 0 to 89\n",
      "Data columns (total 9 columns):\n",
      "Date          1768 non-null object\n",
      "Open          1768 non-null float64\n",
      "High          1768 non-null float64\n",
      "Low           1768 non-null float64\n",
      "Close         1678 non-null float64\n",
      "Volume        1768 non-null object\n",
      "Market Cap    1768 non-null float64\n",
      "Market        1768 non-null int64\n",
      "vol           1768 non-null int64\n",
      "dtypes: float64(5), int64(2), object(2)\n",
      "memory usage: 138.1+ KB\n"
     ]
    }
   ],
   "source": [
    "df.info()"
   ]
  },
  {
   "cell_type": "code",
   "execution_count": 205,
   "metadata": {},
   "outputs": [],
   "source": [
    "df.drop('Volume',axis=1,inplace=True)"
   ]
  },
  {
   "cell_type": "code",
   "execution_count": 206,
   "metadata": {},
   "outputs": [],
   "source": [
    "df['Date'] = pd.to_datetime(df['Date'])"
   ]
  },
  {
   "cell_type": "code",
   "execution_count": 207,
   "metadata": {},
   "outputs": [],
   "source": [
    "df['day_of_week'] = df['Date'].dt.day_name()"
   ]
  },
  {
   "cell_type": "code",
   "execution_count": 208,
   "metadata": {},
   "outputs": [],
   "source": [
    "df['month']=df['Date'].dt.month_name()"
   ]
  },
  {
   "cell_type": "code",
   "execution_count": 209,
   "metadata": {},
   "outputs": [],
   "source": [
    "df['week']=df['Date'].dt.week"
   ]
  },
  {
   "cell_type": "code",
   "execution_count": 210,
   "metadata": {},
   "outputs": [
    {
     "data": {
      "text/html": [
       "<div>\n",
       "<style scoped>\n",
       "    .dataframe tbody tr th:only-of-type {\n",
       "        vertical-align: middle;\n",
       "    }\n",
       "\n",
       "    .dataframe tbody tr th {\n",
       "        vertical-align: top;\n",
       "    }\n",
       "\n",
       "    .dataframe thead th {\n",
       "        text-align: right;\n",
       "    }\n",
       "</style>\n",
       "<table border=\"1\" class=\"dataframe\">\n",
       "  <thead>\n",
       "    <tr style=\"text-align: right;\">\n",
       "      <th></th>\n",
       "      <th>Date</th>\n",
       "      <th>Open</th>\n",
       "      <th>High</th>\n",
       "      <th>Low</th>\n",
       "      <th>Close</th>\n",
       "      <th>Market Cap</th>\n",
       "      <th>Market</th>\n",
       "      <th>vol</th>\n",
       "      <th>day_of_week</th>\n",
       "      <th>month</th>\n",
       "      <th>week</th>\n",
       "    </tr>\n",
       "  </thead>\n",
       "  <tbody>\n",
       "    <tr>\n",
       "      <th>0</th>\n",
       "      <td>2017-11-30</td>\n",
       "      <td>9906.79</td>\n",
       "      <td>10801.00</td>\n",
       "      <td>9202.05</td>\n",
       "      <td>10233.60</td>\n",
       "      <td>1.660000e+11</td>\n",
       "      <td>166000000000</td>\n",
       "      <td>8310689792</td>\n",
       "      <td>Thursday</td>\n",
       "      <td>November</td>\n",
       "      <td>48</td>\n",
       "    </tr>\n",
       "    <tr>\n",
       "      <th>1</th>\n",
       "      <td>2017-11-29</td>\n",
       "      <td>10077.40</td>\n",
       "      <td>11517.40</td>\n",
       "      <td>9601.03</td>\n",
       "      <td>9888.61</td>\n",
       "      <td>1.680000e+11</td>\n",
       "      <td>168000000000</td>\n",
       "      <td>11568799744</td>\n",
       "      <td>Wednesday</td>\n",
       "      <td>November</td>\n",
       "      <td>48</td>\n",
       "    </tr>\n",
       "    <tr>\n",
       "      <th>2</th>\n",
       "      <td>2017-11-28</td>\n",
       "      <td>9823.43</td>\n",
       "      <td>10125.70</td>\n",
       "      <td>9736.30</td>\n",
       "      <td>10058.80</td>\n",
       "      <td>1.640000e+11</td>\n",
       "      <td>164000000000</td>\n",
       "      <td>6348819968</td>\n",
       "      <td>Tuesday</td>\n",
       "      <td>November</td>\n",
       "      <td>48</td>\n",
       "    </tr>\n",
       "    <tr>\n",
       "      <th>3</th>\n",
       "      <td>2017-11-27</td>\n",
       "      <td>9352.72</td>\n",
       "      <td>9818.35</td>\n",
       "      <td>9352.72</td>\n",
       "      <td>9818.35</td>\n",
       "      <td>1.560000e+11</td>\n",
       "      <td>156000000000</td>\n",
       "      <td>5653320192</td>\n",
       "      <td>Monday</td>\n",
       "      <td>November</td>\n",
       "      <td>48</td>\n",
       "    </tr>\n",
       "    <tr>\n",
       "      <th>4</th>\n",
       "      <td>2017-11-26</td>\n",
       "      <td>8789.04</td>\n",
       "      <td>9522.93</td>\n",
       "      <td>8775.59</td>\n",
       "      <td>9330.55</td>\n",
       "      <td>1.470000e+11</td>\n",
       "      <td>147000000000</td>\n",
       "      <td>5475579904</td>\n",
       "      <td>Sunday</td>\n",
       "      <td>November</td>\n",
       "      <td>47</td>\n",
       "    </tr>\n",
       "  </tbody>\n",
       "</table>\n",
       "</div>"
      ],
      "text/plain": [
       "        Date      Open      High      Low     Close    Market Cap  \\\n",
       "0 2017-11-30   9906.79  10801.00  9202.05  10233.60  1.660000e+11   \n",
       "1 2017-11-29  10077.40  11517.40  9601.03   9888.61  1.680000e+11   \n",
       "2 2017-11-28   9823.43  10125.70  9736.30  10058.80  1.640000e+11   \n",
       "3 2017-11-27   9352.72   9818.35  9352.72   9818.35  1.560000e+11   \n",
       "4 2017-11-26   8789.04   9522.93  8775.59   9330.55  1.470000e+11   \n",
       "\n",
       "         Market          vol day_of_week     month  week  \n",
       "0  166000000000   8310689792    Thursday  November    48  \n",
       "1  168000000000  11568799744   Wednesday  November    48  \n",
       "2  164000000000   6348819968     Tuesday  November    48  \n",
       "3  156000000000   5653320192      Monday  November    48  \n",
       "4  147000000000   5475579904      Sunday  November    47  "
      ]
     },
     "execution_count": 210,
     "metadata": {},
     "output_type": "execute_result"
    }
   ],
   "source": [
    "df.head()"
   ]
  },
  {
   "cell_type": "code",
   "execution_count": 211,
   "metadata": {},
   "outputs": [],
   "source": [
    "df.drop('Date',axis=1,inplace=True)"
   ]
  },
  {
   "cell_type": "code",
   "execution_count": 212,
   "metadata": {},
   "outputs": [],
   "source": [
    "df_dum=pd.get_dummies( df, columns = ['day_of_week','month','week'], drop_first=True )"
   ]
  },
  {
   "cell_type": "code",
   "execution_count": 213,
   "metadata": {},
   "outputs": [
    {
     "data": {
      "text/html": [
       "<div>\n",
       "<style scoped>\n",
       "    .dataframe tbody tr th:only-of-type {\n",
       "        vertical-align: middle;\n",
       "    }\n",
       "\n",
       "    .dataframe tbody tr th {\n",
       "        vertical-align: top;\n",
       "    }\n",
       "\n",
       "    .dataframe thead th {\n",
       "        text-align: right;\n",
       "    }\n",
       "</style>\n",
       "<table border=\"1\" class=\"dataframe\">\n",
       "  <thead>\n",
       "    <tr style=\"text-align: right;\">\n",
       "      <th></th>\n",
       "      <th>Open</th>\n",
       "      <th>High</th>\n",
       "      <th>Low</th>\n",
       "      <th>Close</th>\n",
       "      <th>Market Cap</th>\n",
       "      <th>Market</th>\n",
       "      <th>vol</th>\n",
       "      <th>day_of_week_Monday</th>\n",
       "      <th>day_of_week_Saturday</th>\n",
       "      <th>day_of_week_Sunday</th>\n",
       "      <th>...</th>\n",
       "      <th>week_44</th>\n",
       "      <th>week_45</th>\n",
       "      <th>week_46</th>\n",
       "      <th>week_47</th>\n",
       "      <th>week_48</th>\n",
       "      <th>week_49</th>\n",
       "      <th>week_50</th>\n",
       "      <th>week_51</th>\n",
       "      <th>week_52</th>\n",
       "      <th>week_53</th>\n",
       "    </tr>\n",
       "  </thead>\n",
       "  <tbody>\n",
       "    <tr>\n",
       "      <th>0</th>\n",
       "      <td>9906.79</td>\n",
       "      <td>10801.00</td>\n",
       "      <td>9202.05</td>\n",
       "      <td>10233.60</td>\n",
       "      <td>1.660000e+11</td>\n",
       "      <td>166000000000</td>\n",
       "      <td>8310689792</td>\n",
       "      <td>0</td>\n",
       "      <td>0</td>\n",
       "      <td>0</td>\n",
       "      <td>...</td>\n",
       "      <td>0</td>\n",
       "      <td>0</td>\n",
       "      <td>0</td>\n",
       "      <td>0</td>\n",
       "      <td>1</td>\n",
       "      <td>0</td>\n",
       "      <td>0</td>\n",
       "      <td>0</td>\n",
       "      <td>0</td>\n",
       "      <td>0</td>\n",
       "    </tr>\n",
       "    <tr>\n",
       "      <th>1</th>\n",
       "      <td>10077.40</td>\n",
       "      <td>11517.40</td>\n",
       "      <td>9601.03</td>\n",
       "      <td>9888.61</td>\n",
       "      <td>1.680000e+11</td>\n",
       "      <td>168000000000</td>\n",
       "      <td>11568799744</td>\n",
       "      <td>0</td>\n",
       "      <td>0</td>\n",
       "      <td>0</td>\n",
       "      <td>...</td>\n",
       "      <td>0</td>\n",
       "      <td>0</td>\n",
       "      <td>0</td>\n",
       "      <td>0</td>\n",
       "      <td>1</td>\n",
       "      <td>0</td>\n",
       "      <td>0</td>\n",
       "      <td>0</td>\n",
       "      <td>0</td>\n",
       "      <td>0</td>\n",
       "    </tr>\n",
       "    <tr>\n",
       "      <th>2</th>\n",
       "      <td>9823.43</td>\n",
       "      <td>10125.70</td>\n",
       "      <td>9736.30</td>\n",
       "      <td>10058.80</td>\n",
       "      <td>1.640000e+11</td>\n",
       "      <td>164000000000</td>\n",
       "      <td>6348819968</td>\n",
       "      <td>0</td>\n",
       "      <td>0</td>\n",
       "      <td>0</td>\n",
       "      <td>...</td>\n",
       "      <td>0</td>\n",
       "      <td>0</td>\n",
       "      <td>0</td>\n",
       "      <td>0</td>\n",
       "      <td>1</td>\n",
       "      <td>0</td>\n",
       "      <td>0</td>\n",
       "      <td>0</td>\n",
       "      <td>0</td>\n",
       "      <td>0</td>\n",
       "    </tr>\n",
       "    <tr>\n",
       "      <th>3</th>\n",
       "      <td>9352.72</td>\n",
       "      <td>9818.35</td>\n",
       "      <td>9352.72</td>\n",
       "      <td>9818.35</td>\n",
       "      <td>1.560000e+11</td>\n",
       "      <td>156000000000</td>\n",
       "      <td>5653320192</td>\n",
       "      <td>1</td>\n",
       "      <td>0</td>\n",
       "      <td>0</td>\n",
       "      <td>...</td>\n",
       "      <td>0</td>\n",
       "      <td>0</td>\n",
       "      <td>0</td>\n",
       "      <td>0</td>\n",
       "      <td>1</td>\n",
       "      <td>0</td>\n",
       "      <td>0</td>\n",
       "      <td>0</td>\n",
       "      <td>0</td>\n",
       "      <td>0</td>\n",
       "    </tr>\n",
       "    <tr>\n",
       "      <th>4</th>\n",
       "      <td>8789.04</td>\n",
       "      <td>9522.93</td>\n",
       "      <td>8775.59</td>\n",
       "      <td>9330.55</td>\n",
       "      <td>1.470000e+11</td>\n",
       "      <td>147000000000</td>\n",
       "      <td>5475579904</td>\n",
       "      <td>0</td>\n",
       "      <td>0</td>\n",
       "      <td>1</td>\n",
       "      <td>...</td>\n",
       "      <td>0</td>\n",
       "      <td>0</td>\n",
       "      <td>0</td>\n",
       "      <td>1</td>\n",
       "      <td>0</td>\n",
       "      <td>0</td>\n",
       "      <td>0</td>\n",
       "      <td>0</td>\n",
       "      <td>0</td>\n",
       "      <td>0</td>\n",
       "    </tr>\n",
       "  </tbody>\n",
       "</table>\n",
       "<p>5 rows × 76 columns</p>\n",
       "</div>"
      ],
      "text/plain": [
       "       Open      High      Low     Close    Market Cap        Market  \\\n",
       "0   9906.79  10801.00  9202.05  10233.60  1.660000e+11  166000000000   \n",
       "1  10077.40  11517.40  9601.03   9888.61  1.680000e+11  168000000000   \n",
       "2   9823.43  10125.70  9736.30  10058.80  1.640000e+11  164000000000   \n",
       "3   9352.72   9818.35  9352.72   9818.35  1.560000e+11  156000000000   \n",
       "4   8789.04   9522.93  8775.59   9330.55  1.470000e+11  147000000000   \n",
       "\n",
       "           vol  day_of_week_Monday  day_of_week_Saturday  day_of_week_Sunday  \\\n",
       "0   8310689792                   0                     0                   0   \n",
       "1  11568799744                   0                     0                   0   \n",
       "2   6348819968                   0                     0                   0   \n",
       "3   5653320192                   1                     0                   0   \n",
       "4   5475579904                   0                     0                   1   \n",
       "\n",
       "    ...     week_44  week_45  week_46  week_47  week_48  week_49  week_50  \\\n",
       "0   ...           0        0        0        0        1        0        0   \n",
       "1   ...           0        0        0        0        1        0        0   \n",
       "2   ...           0        0        0        0        1        0        0   \n",
       "3   ...           0        0        0        0        1        0        0   \n",
       "4   ...           0        0        0        1        0        0        0   \n",
       "\n",
       "   week_51  week_52  week_53  \n",
       "0        0        0        0  \n",
       "1        0        0        0  \n",
       "2        0        0        0  \n",
       "3        0        0        0  \n",
       "4        0        0        0  \n",
       "\n",
       "[5 rows x 76 columns]"
      ]
     },
     "execution_count": 213,
     "metadata": {},
     "output_type": "execute_result"
    }
   ],
   "source": [
    "df_dum.head()"
   ]
  },
  {
   "cell_type": "code",
   "execution_count": 214,
   "metadata": {},
   "outputs": [],
   "source": [
    "train=df.iloc[:1678,:]\n",
    "validation=df.iloc[1678:,:]"
   ]
  },
  {
   "cell_type": "code",
   "execution_count": 215,
   "metadata": {},
   "outputs": [],
   "source": [
    "y=train['Close']"
   ]
  },
  {
   "cell_type": "code",
   "execution_count": 216,
   "metadata": {},
   "outputs": [],
   "source": [
    "X=train.drop('Close',axis=1)"
   ]
  },
  {
   "cell_type": "code",
   "execution_count": null,
   "metadata": {},
   "outputs": [],
   "source": []
  },
  {
   "cell_type": "code",
   "execution_count": null,
   "metadata": {},
   "outputs": [],
   "source": [
    "X_train, X_test, y_train, y_test = train_test_split(X, y,train_size=0.75, test_size=0.25)\n",
    "tpot = TPOTRegressor(generations=5, population_size=20, verbosity=2)\n",
    "tpot.fit(X_train, y_train)\n",
    "print('Score: ',tpot.score(X_test, y_test))\n",
    "tpot.export('tpot_boston_pipeline.py')\n",
    "pred = tpot.predict(X_test)\n",
    "\n",
    "\n",
    "# Evaluate model\n",
    "import pandas as pd\n",
    "from sklearn.metrics import mean_squared_error\n",
    "from math import sqrt\n",
    "\n",
    "df = pd.DataFrame(columns=['Test','Pred'])\n",
    "df['Test'] = pd.DataFrame(y_test,columns=['Test'])\n",
    "df['Pred'] = pd.DataFrame(pred,columns=['Pred'])\n",
    "rms = sqrt(mean_squared_error(df['Test'], df['Pred'] ))\n",
    "print('\\n\\nRegression RMSE: ',rms)"
   ]
  },
  {
   "cell_type": "code",
   "execution_count": null,
   "metadata": {},
   "outputs": [],
   "source": [
    "submission = tpot.predict(validation.drop('Close'))"
   ]
  }
 ],
 "metadata": {
  "kernelspec": {
   "display_name": "Python 3",
   "language": "python",
   "name": "python3"
  },
  "language_info": {
   "codemirror_mode": {
    "name": "ipython",
    "version": 3
   },
   "file_extension": ".py",
   "mimetype": "text/x-python",
   "name": "python",
   "nbconvert_exporter": "python",
   "pygments_lexer": "ipython3",
   "version": "3.6.5"
  }
 },
 "nbformat": 4,
 "nbformat_minor": 2
}
